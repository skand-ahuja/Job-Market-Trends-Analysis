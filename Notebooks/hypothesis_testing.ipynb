{
 "cells": [
  {
   "cell_type": "markdown",
   "metadata": {},
   "source": [
    "# **HYPOTHESIS TESTING**\n",
    "\n",
    "## ***Introduction***\n",
    "This notebook performs hypothesis testing and A/B testing on job market trends using `cleaned_jobs.csv`. \n",
    "We aim to test salary variations, skill demand, and experience impact using statistical methods."
   ]
  },
  {
   "cell_type": "markdown",
   "metadata": {},
   "source": [
    "## **Importing Libraries**"
   ]
  },
  {
   "cell_type": "code",
   "execution_count": 1,
   "metadata": {},
   "outputs": [],
   "source": [
    "import numpy as np\n",
    "import pandas as pd\n",
    "import matplotlib.pyplot as plt\n",
    "import seaborn as sns"
   ]
  },
  {
   "cell_type": "markdown",
   "metadata": {},
   "source": [
    "## **Step-1: *Load Data***\n",
    "\n",
    "> Load & Prepare Data\n",
    "\n",
    "We will load the cleaned dataset and ensure it is ready for hypothesis testing."
   ]
  },
  {
   "cell_type": "code",
   "execution_count": 5,
   "metadata": {},
   "outputs": [
    {
     "name": "stdout",
     "output_type": "stream",
     "text": [
      "                   Job Title   Company        Location  \\\n",
      "0             Data Scientist    Amazon   Mumbai, India   \n",
      "1             Data Scientist    Google  Chennai, India   \n",
      "2             Data Scientist  Flipkart  Chennai, India   \n",
      "3  Machine Learning Engineer   Infosys     Pune, India   \n",
      "4  Machine Learning Engineer  Deloitte     Pune, India   \n",
      "\n",
      "                            Skills  Experience Required          Salary  \\\n",
      "0                Tableau, Excel, R                    6  ₹10L per annum   \n",
      "1    Data Wrangling, Pandas, Numpy                    6  ₹17L per annum   \n",
      "2  Machine Learning, Deep Learning                    9   ₹9L per annum   \n",
      "3  Machine Learning, Deep Learning                    4  ₹19L per annum   \n",
      "4            Python, Sql, Power Bi                    3   ₹6L per annum   \n",
      "\n",
      "          Date Posted  \n",
      "0   Posted 9 days ago  \n",
      "1  Posted 13 days ago  \n",
      "2   Posted 7 days ago  \n",
      "3   Posted 5 days ago  \n",
      "4   Posted 9 days ago  \n"
     ]
    }
   ],
   "source": [
    "df = pd.read_csv('../Data/cleaned_jobs.csv')\n",
    "print(df.head())"
   ]
  },
  {
   "cell_type": "markdown",
   "metadata": {},
   "source": [
    "## **Step-2: *Hypothesis Testing:***"
   ]
  },
  {
   "cell_type": "markdown",
   "metadata": {},
   "source": [
    "### **Hypothesis 1: *Salary Differences by Location (T-test)***\n",
    "\n",
    "> ***Question:*** Are Data Scientist salaries in Bangalore higher than in Mumbai?\n",
    "\n",
    "We compare salaries between Bangalore and Mumbai using an independent t-test.\n",
    "\n",
    "- ***Test Used:*** Independent T-test\n",
    "- ***Null Hypothesis (H₀):*** Salaries in Bangalore and Mumbai are the same.\n",
    "- ***Alternative Hypothesis (H₁):*** Salaries in Bangalore are higher."
   ]
  },
  {
   "cell_type": "code",
   "execution_count": null,
   "metadata": {},
   "outputs": [],
   "source": []
  },
  {
   "cell_type": "markdown",
   "metadata": {},
   "source": [
    "### **Hypothesis 2: *Skill Demand (Chi-Square Test)***\n",
    "\n",
    "> ***Question:*** Are Python and SQL equally in demand?\n",
    "\n",
    "We check if Python and SQL have the same demand in job listings.\n",
    "* ***Test Used:*** Chi-Square Test\n",
    "* ***Null Hypothesis (H₀):*** Python and SQL appear equally in job listings.\n",
    "* ***Alternative Hypothesis (H₁):*** One skill is significantly more in demand."
   ]
  },
  {
   "cell_type": "code",
   "execution_count": null,
   "metadata": {},
   "outputs": [],
   "source": []
  },
  {
   "cell_type": "markdown",
   "metadata": {},
   "source": [
    "### **Hypothesis 3: *Experience vs. Salary Correlation (Pearson Correlation)***\n",
    "> ***Question:*** Does more experience lead to higher salaries?\n",
    "\n",
    "We analyze whether experience has a strong correlation with salary.\n",
    "- ***Test Used:*** Pearson Correlation\n",
    "- ***Null Hypothesis (H₀):*** There is no correlation between experience and salary.\n",
    "- ***Alternative Hypothesis (H₁):*** There is a positive correlation."
   ]
  },
  {
   "cell_type": "code",
   "execution_count": null,
   "metadata": {},
   "outputs": [],
   "source": []
  },
  {
   "cell_type": "markdown",
   "metadata": {},
   "source": [
    "### **Hypothesis 4: *A/B Testing on Job Salaries***\n",
    "> ***Question:*** Do Data Scientists earn more than ML Engineers?\n",
    "\n",
    "We compare salaries between Data Scientists and ML Engineers using A/B testing.\n",
    "- ***Test Used:*** Two-Sample T-test (A/B Testing)\n",
    "- ***Null Hypothesis (H₀):*** Data Scientists and ML Engineers have similar salaries.\n",
    "- ***Alternative Hypothesis (H₁):*** Data Scientists earn significantly more."
   ]
  },
  {
   "cell_type": "code",
   "execution_count": null,
   "metadata": {},
   "outputs": [],
   "source": []
  },
  {
   "cell_type": "markdown",
   "metadata": {},
   "source": [
    "## **Conclusion & Insights**\n",
    "\n",
    "Summarizing the key insights from our hypothesis testing results."
   ]
  }
 ],
 "metadata": {
  "kernelspec": {
   "display_name": "Python 3",
   "language": "python",
   "name": "python3"
  },
  "language_info": {
   "codemirror_mode": {
    "name": "ipython",
    "version": 3
   },
   "file_extension": ".py",
   "mimetype": "text/x-python",
   "name": "python",
   "nbconvert_exporter": "python",
   "pygments_lexer": "ipython3",
   "version": "3.12.4"
  }
 },
 "nbformat": 4,
 "nbformat_minor": 2
}
