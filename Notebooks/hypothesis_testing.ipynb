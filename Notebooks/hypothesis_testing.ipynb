{
 "cells": [
  {
   "cell_type": "markdown",
   "metadata": {},
   "source": [
    "# **HYPOTHESIS TESTING**\n",
    "\n",
    "## ***Introduction***\n",
    "This notebook performs hypothesis testing and A/B testing on job market trends using `cleaned_jobs.csv`. \n",
    "We aim to test salary variations, skill demand, and experience impact using statistical methods."
   ]
  },
  {
   "cell_type": "code",
   "execution_count": 1,
   "metadata": {},
   "outputs": [
    {
     "name": "stdout",
     "output_type": "stream",
     "text": [
      "Retrieving notices: done"
     ]
    },
    {
     "name": "stderr",
     "output_type": "stream",
     "text": [
      "\n",
      "CondaFileIOError: 'requirements.txt'. [Errno 2] No such file or directory: 'requirements.txt'\n",
      "\n"
     ]
    },
    {
     "name": "stdout",
     "output_type": "stream",
     "text": [
      "\n"
     ]
    }
   ],
   "source": [
    "!conda install --yes --file requirements.txt"
   ]
  },
  {
   "cell_type": "markdown",
   "metadata": {},
   "source": [
    "## **Importing Libraries**"
   ]
  },
  {
   "cell_type": "code",
   "execution_count": 7,
   "metadata": {},
   "outputs": [],
   "source": [
    "import numpy as np\n",
    "import pandas as pd\n",
    "import matplotlib.pyplot as plt\n",
    "import seaborn as sns\n",
    "import scipy.stats as stats\n",
    "from collections import Counter"
   ]
  },
  {
   "cell_type": "markdown",
   "metadata": {},
   "source": [
    "## **Step-1: *Load Data***\n",
    "\n",
    "> Load & Prepare Data\n",
    "\n",
    "We will load the cleaned dataset and ensure it is ready for hypothesis testing."
   ]
  },
  {
   "cell_type": "code",
   "execution_count": 5,
   "metadata": {},
   "outputs": [
    {
     "data": {
      "text/html": [
       "<div>\n",
       "<style scoped>\n",
       "    .dataframe tbody tr th:only-of-type {\n",
       "        vertical-align: middle;\n",
       "    }\n",
       "\n",
       "    .dataframe tbody tr th {\n",
       "        vertical-align: top;\n",
       "    }\n",
       "\n",
       "    .dataframe thead th {\n",
       "        text-align: right;\n",
       "    }\n",
       "</style>\n",
       "<table border=\"1\" class=\"dataframe\">\n",
       "  <thead>\n",
       "    <tr style=\"text-align: right;\">\n",
       "      <th></th>\n",
       "      <th>Job Title</th>\n",
       "      <th>Company</th>\n",
       "      <th>Location</th>\n",
       "      <th>Skills</th>\n",
       "      <th>Experience</th>\n",
       "      <th>Salary</th>\n",
       "      <th>Date Posted</th>\n",
       "    </tr>\n",
       "  </thead>\n",
       "  <tbody>\n",
       "    <tr>\n",
       "      <th>0</th>\n",
       "      <td>Data Scientist</td>\n",
       "      <td>Amazon</td>\n",
       "      <td>Mumbai</td>\n",
       "      <td>Tableau, Excel, R</td>\n",
       "      <td>6</td>\n",
       "      <td>1</td>\n",
       "      <td>Posted 9 days ago</td>\n",
       "    </tr>\n",
       "    <tr>\n",
       "      <th>1</th>\n",
       "      <td>Data Scientist</td>\n",
       "      <td>Google</td>\n",
       "      <td>Chennai</td>\n",
       "      <td>Data Wrangling, Pandas, Numpy</td>\n",
       "      <td>6</td>\n",
       "      <td>1</td>\n",
       "      <td>Posted 13 days ago</td>\n",
       "    </tr>\n",
       "    <tr>\n",
       "      <th>2</th>\n",
       "      <td>Data Scientist</td>\n",
       "      <td>Flipkart</td>\n",
       "      <td>Chennai</td>\n",
       "      <td>Machine Learning, Deep Learning</td>\n",
       "      <td>9</td>\n",
       "      <td>9</td>\n",
       "      <td>Posted 7 days ago</td>\n",
       "    </tr>\n",
       "    <tr>\n",
       "      <th>3</th>\n",
       "      <td>Machine Learning Engineer</td>\n",
       "      <td>Infosys</td>\n",
       "      <td>Pune</td>\n",
       "      <td>Machine Learning, Deep Learning</td>\n",
       "      <td>4</td>\n",
       "      <td>1</td>\n",
       "      <td>Posted 5 days ago</td>\n",
       "    </tr>\n",
       "    <tr>\n",
       "      <th>4</th>\n",
       "      <td>Machine Learning Engineer</td>\n",
       "      <td>Deloitte</td>\n",
       "      <td>Pune</td>\n",
       "      <td>Python, Sql, Power Bi</td>\n",
       "      <td>3</td>\n",
       "      <td>6</td>\n",
       "      <td>Posted 9 days ago</td>\n",
       "    </tr>\n",
       "  </tbody>\n",
       "</table>\n",
       "</div>"
      ],
      "text/plain": [
       "                   Job Title   Company Location  \\\n",
       "0             Data Scientist    Amazon   Mumbai   \n",
       "1             Data Scientist    Google  Chennai   \n",
       "2             Data Scientist  Flipkart  Chennai   \n",
       "3  Machine Learning Engineer   Infosys     Pune   \n",
       "4  Machine Learning Engineer  Deloitte     Pune   \n",
       "\n",
       "                            Skills  Experience  Salary         Date Posted  \n",
       "0                Tableau, Excel, R           6       1   Posted 9 days ago  \n",
       "1    Data Wrangling, Pandas, Numpy           6       1  Posted 13 days ago  \n",
       "2  Machine Learning, Deep Learning           9       9   Posted 7 days ago  \n",
       "3  Machine Learning, Deep Learning           4       1   Posted 5 days ago  \n",
       "4            Python, Sql, Power Bi           3       6   Posted 9 days ago  "
      ]
     },
     "execution_count": 5,
     "metadata": {},
     "output_type": "execute_result"
    }
   ],
   "source": [
    "df = pd.read_csv('../Data/cleaned_jobs.csv')\n",
    "df.head()"
   ]
  },
  {
   "cell_type": "markdown",
   "metadata": {},
   "source": [
    "## **Step-2: *Hypothesis Testing:***"
   ]
  },
  {
   "cell_type": "markdown",
   "metadata": {},
   "source": [
    "### **Hypothesis 1: *Salary Differences by Location (T-test)***\n",
    "\n",
    "> ***Question:*** Are Data Scientist salaries in Bangalore higher than in Mumbai?\n",
    "\n",
    "We compare salaries between Bangalore and Mumbai using an independent t-test.\n",
    "\n",
    "- ***Test Used:*** Independent T-test\n",
    "- ***Null Hypothesis (H₀):*** Salaries in Bangalore and Mumbai are the same.\n",
    "- ***Alternative Hypothesis (H₁):*** Salaries in Bangalore are higher."
   ]
  },
  {
   "cell_type": "code",
   "execution_count": null,
   "metadata": {},
   "outputs": [
    {
     "name": "stdout",
     "output_type": "stream",
     "text": [
      "T-Statistic: -2.70\n",
      "P-Value: 0.01805\n",
      "✅ Reject Null Hypothesis: Salaries in Bangalore and Mumbai are significantly different.\n"
     ]
    }
   ],
   "source": [
    "# Filter data for Bangalore and Mumbai\n",
    "bangalore_salaries = df[df[\"Location\"].str.contains(\"Bangalore\", case=False)][\"Salary\"]\n",
    "mumbai_salaries = df[df[\"Location\"].str.contains(\"Mumbai\", case=False)][\"Salary\"]\n",
    "\n",
    "# Perform Independent T-test\n",
    "t_stat, p_value = stats.ttest_ind(bangalore_salaries, mumbai_salaries, nan_policy=\"omit\")\n",
    "\n",
    "print(f\"T-Statistic: {t_stat:.2f}\")\n",
    "print(f\"P-Value: {p_value:.5f}\")\n",
    "\n",
    "# Interpret results\n",
    "alpha = 0.05\n",
    "if p_value < alpha:\n",
    "    print(\"✅ Reject Null Hypothesis: Salaries in Bangalore and Mumbai are significantly different.\")\n",
    "else:\n",
    "    print(\"❌ Fail to Reject Null Hypothesis: No significant salary difference between Bangalore and Mumbai.\")"
   ]
  },
  {
   "cell_type": "markdown",
   "metadata": {},
   "source": [
    "### **Hypothesis 2: *Skill Demand (Chi-Square Test)***\n",
    "\n",
    "> ***Question:*** Are Python and SQL equally in demand?\n",
    "\n",
    "We check if Python and SQL have the same demand in job listings.\n",
    "* ***Test Used:*** Chi-Square Test\n",
    "* ***Null Hypothesis (H₀):*** Python and SQL appear equally in job listings.\n",
    "* ***Alternative Hypothesis (H₁):*** One skill is significantly more in demand."
   ]
  },
  {
   "cell_type": "code",
   "execution_count": 9,
   "metadata": {},
   "outputs": [
    {
     "name": "stdout",
     "output_type": "stream",
     "text": [
      "Chi-Square Statistic: 0.00\n",
      "P-Value: 1.00000\n",
      "❌ Fail to Reject Null Hypothesis: No significant difference in demand for Python and SQL.\n"
     ]
    }
   ],
   "source": [
    "# Extract skills from the dataset\n",
    "all_skills = \", \".join(df[\"Skills\"].dropna()).split(\", \")\n",
    "skill_counts = Counter(all_skills)\n",
    "\n",
    "# Get counts of Python & SQL, ensuring they are at least 1\n",
    "python_count = skill_counts.get(\"Python\", 1)  # Use 1 if missing to avoid zero frequency\n",
    "sql_count = skill_counts.get(\"SQL\", 1)\n",
    "\n",
    "# Observed frequency table [Contingency Table (Must be 2D)]\n",
    "observed = np.array([[python_count], [sql_count]])\n",
    "\n",
    "# Perform Chi-Square Test\n",
    "chi2_stat, p_value, _, _ = stats.chi2_contingency(observed)\n",
    "\n",
    "print(f\"Chi-Square Statistic: {chi2_stat:.2f}\")\n",
    "print(f\"P-Value: {p_value:.5f}\")\n",
    "\n",
    "# Interpretation\n",
    "alpha = 0.05\n",
    "if p_value < alpha:\n",
    "    print(\"✅ Reject Null Hypothesis: Python and SQL have significantly different demand.\")\n",
    "else:\n",
    "    print(\"❌ Fail to Reject Null Hypothesis: No significant difference in demand for Python and SQL.\")\n"
   ]
  },
  {
   "cell_type": "markdown",
   "metadata": {},
   "source": [
    "### **Hypothesis 3: *Experience vs. Salary Correlation (Pearson Correlation)***\n",
    "> ***Question:*** Does more experience lead to higher salaries?\n",
    "\n",
    "We analyze whether experience has a strong correlation with salary.\n",
    "- ***Test Used:*** Pearson Correlation\n",
    "- ***Null Hypothesis (H₀):*** There is no correlation between experience and salary.\n",
    "- ***Alternative Hypothesis (H₁):*** There is a positive correlation."
   ]
  },
  {
   "cell_type": "code",
   "execution_count": null,
   "metadata": {},
   "outputs": [
    {
     "name": "stdout",
     "output_type": "stream",
     "text": [
      "Correlation Coefficient: 0.01\n",
      "P-Value: 0.96753\n",
      "❌ Fail to Reject Null Hypothesis: No significant correlation between experience and salary.\n"
     ]
    },
    {
     "data": {
      "image/png": "[encoded data removed]",
      "text/plain": [
       "<Figure size 800x500 with 1 Axes>"
      ]
     },
     "metadata": {},
     "output_type": "display_data"
    }
   ],
   "source": [
    "# Drop NaN values for correlation test\n",
    "df_corr = df.dropna(subset=[\"Experience\", \"Salary\"])\n",
    "\n",
    "# Perform Pearson Correlation\n",
    "corr_coeff, p_value = stats.pearsonr(df_corr[\"Experience\"], df_corr[\"Salary\"])\n",
    "\n",
    "print(f\"Correlation Coefficient: {corr_coeff:.2f}\")\n",
    "print(f\"P-Value: {p_value:.5f}\")\n",
    "\n",
    "# Interpretation\n",
    "if p_value < alpha:\n",
    "    print(\"✅ Reject Null Hypothesis: Experience has a significant correlation with salary.\")\n",
    "else:\n",
    "    print(\"❌ Fail to Reject Null Hypothesis: No significant correlation between experience and salary.\")\n",
    "\n",
    "# Scatter Plot\n",
    "plt.figure(figsize=(8, 5))\n",
    "sns.regplot(x=df_corr[\"Experience\"], y=df_corr[\"Salary\"], scatter_kws={\"alpha\": 0.5})\n",
    "plt.title(\"Experience vs. Salary Correlation\")\n",
    "plt.xlabel(\"Years of Experience\")\n",
    "plt.ylabel(\"Salary (LPA)\")\n",
    "plt.show()"
   ]
  },
  {
   "cell_type": "markdown",
   "metadata": {},
   "source": [
    "### **Hypothesis 4: *A/B Testing on Job Salaries***\n",
    "> ***Question:*** Do Data Scientists earn more than ML Engineers?\n",
    "\n",
    "We compare salaries between Data Scientists and ML Engineers using A/B testing.\n",
    "- ***Test Used:*** Two-Sample T-test (A/B Testing)\n",
    "- ***Null Hypothesis (H₀):*** Data Scientists and ML Engineers have similar salaries.\n",
    "- ***Alternative Hypothesis (H₁):*** Data Scientists earn significantly more."
   ]
  },
  {
   "cell_type": "code",
   "execution_count": 13,
   "metadata": {},
   "outputs": [
    {
     "name": "stdout",
     "output_type": "stream",
     "text": [
      "T-Statistic: 0.06\n",
      "P-Value: 0.95077\n",
      "❌ Fail to Reject Null Hypothesis: No significant salary difference between Data Scientists and ML Engineers.\n"
     ]
    }
   ],
   "source": [
    "# Filter salaries for Data Scientists & ML Engineers\n",
    "ds_salaries = df[df[\"Job Title\"].str.contains(\"Data Scientist\", case=False)][\"Salary\"]\n",
    "ml_salaries = df[df[\"Job Title\"].str.contains(\"Machine Learning Engineer\", case=False)][\"Salary\"]\n",
    "\n",
    "# Perform Independent T-test\n",
    "t_stat, p_value = stats.ttest_ind(ds_salaries, ml_salaries, nan_policy=\"omit\")\n",
    "\n",
    "print(f\"T-Statistic: {t_stat:.2f}\")\n",
    "print(f\"P-Value: {p_value:.5f}\")\n",
    "\n",
    "# Interpretation\n",
    "if p_value < alpha:\n",
    "    print(\"✅ Reject Null Hypothesis: Data Scientists and ML Engineers have significantly different salaries.\")\n",
    "else:\n",
    "    print(\"❌ Fail to Reject Null Hypothesis: No significant salary difference between Data Scientists and ML Engineers.\")"
   ]
  },
  {
   "cell_type": "markdown",
   "metadata": {},
   "source": [
    "# **Conclusion & Insights**\n",
    "\n",
    "Summarizing the key insights from our hypothesis testing results."
   ]
  },
  {
   "cell_type": "markdown",
   "metadata": {},
   "source": [
    "### **🚀 Insights & Conclusions from Hypothesis Testing**  \n",
    "\n",
    "Based on the **statistical test results**, we can derive the following insights about the **Data Science job market in India**:  \n",
    "\n",
    "---\n",
    "\n",
    "## **📌 1️⃣ Salary Differences by Location (T-Test)**  \n",
    "**T-Statistic: -2.70, P-Value: 0.01805**  \n",
    "✅ **Conclusion:** Salaries in Bangalore and Mumbai are significantly different.  \n",
    "📌 **Insight:**  \n",
    "- Since the **p-value is less than 0.05**, we **reject the null hypothesis**.  \n",
    "- This means **Bangalore and Mumbai have different salary distributions** for Data Science roles.  \n",
    "- Further analysis (box plots, means) is needed to see **which city has higher salaries**.  \n",
    "\n",
    "**💡 Business Implication:**  \n",
    "- Companies hiring in Bangalore may need **competitive salary offers** to attract top talent.  \n",
    "\n",
    "---\n",
    "\n",
    "## **📌 2️⃣ Skill Demand (Chi-Square Test)**  \n",
    "**Chi-Square Statistic: 0.00, P-Value: 1.00000**  \n",
    "❌ **Conclusion:** No significant difference in demand for Python and SQL.  \n",
    "📌 **Insight:**  \n",
    "- Since the **p-value is greater than 0.05**, we **fail to reject the null hypothesis**.  \n",
    "- Python and SQL **appear equally** in job descriptions.  \n",
    "\n",
    "**💡 Business Implication:**  \n",
    "- Data professionals **must** be skilled in **both Python & SQL** as they are equally valued.  \n",
    "\n",
    "---\n",
    "\n",
    "## **📌 3️⃣ Experience vs. Salary Correlation (Pearson Correlation Test)**  \n",
    "**Correlation Coefficient: 0.01, P-Value: 0.96753**  \n",
    "❌ **Conclusion:** No significant correlation between experience and salary.  \n",
    "📌 **Insight:**  \n",
    "- The correlation coefficient is **very close to 0**, meaning **experience does not impact salary significantly**.  \n",
    "- The **p-value is much greater than 0.05**, so we **fail to reject the null hypothesis**.  \n",
    "\n",
    "**💡 Business Implication:**  \n",
    "- Unlike in traditional jobs, in Data Science, **skills & specialization** may matter more than just years of experience.  \n",
    "- Professionals should **focus on acquiring high-demand skills (AI, ML, NLP)** rather than just gaining experience.  \n",
    "\n",
    "---\n",
    "\n",
    "## **📌 4️⃣ A/B Testing: Data Scientist vs. ML Engineer Salaries (T-Test)**  \n",
    "**T-Statistic: 0.06, P-Value: 0.95077**  \n",
    "❌ **Conclusion:** No significant salary difference between Data Scientists and ML Engineers.  \n",
    "📌 **Insight:**  \n",
    "- Since **p-value > 0.05**, we **fail to reject the null hypothesis**.  \n",
    "- This means **Data Scientists and ML Engineers earn similar salaries**.  \n",
    "- However, this may depend on specific companies, industries, or experience levels.  \n",
    "\n",
    "**💡 Business Implication:**  \n",
    "- Both roles are **equally valued** in the job market.  \n",
    "- Candidates can **choose based on interest** rather than salary expectations.  \n",
    "\n",
    "---\n",
    "\n",
    "### **🚀 Final Summary of Findings**\n",
    "| **Hypothesis** | **P-Value** | **Conclusion** |\n",
    "|---------------|-----------|---------------|\n",
    "| **Salary Differences by Location** | 0.018 | ✅ **Significant difference** |\n",
    "| **Skill Demand (Python vs. SQL)** | 1.000 | ❌ **No difference in demand** |\n",
    "| **Experience vs. Salary Correlation** | 0.968 | ❌ **No correlation** |\n",
    "| **Data Scientist vs. ML Engineer Salaries** | 0.951 | ❌ **No significant difference** |\n",
    "\n",
    "---"
   ]
  }
 ],
 "metadata": {
  "kernelspec": {
   "display_name": "python",
   "language": "python",
   "name": "python3"
  },
  "language_info": {
   "codemirror_mode": {
    "name": "ipython",
    "version": 3
   },
   "file_extension": ".py",
   "mimetype": "text/x-python",
   "name": "python",
   "nbconvert_exporter": "python",
   "pygments_lexer": "ipython3",
   "version": "3.12.4"
  }
 },
 "nbformat": 4,
 "nbformat_minor": 2
}
