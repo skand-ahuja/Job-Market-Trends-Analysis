{
 "cells": [
  {
   "cell_type": "markdown",
   "metadata": {},
   "source": [
    "# **HYPOTHESIS TESTING**\n",
    "\n",
    "## ***Introduction***\n",
    "This notebook performs hypothesis testing and A/B testing on job market trends using `cleaned_jobs.csv`. \n",
    "We aim to test salary variations, skill demand, and experience impact using statistical methods."
   ]
  },
  {
   "cell_type": "code",
   "execution_count": 1,
   "metadata": {},
   "outputs": [
    {
     "name": "stdout",
     "output_type": "stream",
     "text": [
      "Retrieving notices: done"
     ]
    },
    {
     "name": "stderr",
     "output_type": "stream",
     "text": [
      "\n",
      "CondaFileIOError: 'requirements.txt'. [Errno 2] No such file or directory: 'requirements.txt'\n",
      "\n"
     ]
    },
    {
     "name": "stdout",
     "output_type": "stream",
     "text": [
      "\n"
     ]
    }
   ],
   "source": [
    "!conda install --yes --file requirements.txt"
   ]
  },
  {
   "cell_type": "markdown",
   "metadata": {},
   "source": [
    "## **Importing Libraries**"
   ]
  },
  {
   "cell_type": "code",
   "execution_count": 2,
   "metadata": {},
   "outputs": [],
   "source": [
    "import numpy as np\n",
    "import pandas as pd\n",
    "import matplotlib.pyplot as plt\n",
    "import seaborn as sns\n",
    "import scipy.stats as stats"
   ]
  },
  {
   "cell_type": "markdown",
   "metadata": {},
   "source": [
    "## **Step-1: *Load Data***\n",
    "\n",
    "> Load & Prepare Data\n",
    "\n",
    "We will load the cleaned dataset and ensure it is ready for hypothesis testing."
   ]
  },
  {
   "cell_type": "code",
   "execution_count": 4,
   "metadata": {},
   "outputs": [
    {
     "data": {
      "text/html": [
       "<div>\n",
       "<style scoped>\n",
       "    .dataframe tbody tr th:only-of-type {\n",
       "        vertical-align: middle;\n",
       "    }\n",
       "\n",
       "    .dataframe tbody tr th {\n",
       "        vertical-align: top;\n",
       "    }\n",
       "\n",
       "    .dataframe thead th {\n",
       "        text-align: right;\n",
       "    }\n",
       "</style>\n",
       "<table border=\"1\" class=\"dataframe\">\n",
       "  <thead>\n",
       "    <tr style=\"text-align: right;\">\n",
       "      <th></th>\n",
       "      <th>Job Title</th>\n",
       "      <th>Company</th>\n",
       "      <th>Location</th>\n",
       "      <th>Skills</th>\n",
       "      <th>Experience Required</th>\n",
       "      <th>Salary</th>\n",
       "      <th>Date Posted</th>\n",
       "    </tr>\n",
       "  </thead>\n",
       "  <tbody>\n",
       "    <tr>\n",
       "      <th>0</th>\n",
       "      <td>Data Scientist</td>\n",
       "      <td>Amazon</td>\n",
       "      <td>Mumbai, India</td>\n",
       "      <td>Tableau, Excel, R</td>\n",
       "      <td>6</td>\n",
       "      <td>₹10L per annum</td>\n",
       "      <td>Posted 9 days ago</td>\n",
       "    </tr>\n",
       "    <tr>\n",
       "      <th>1</th>\n",
       "      <td>Data Scientist</td>\n",
       "      <td>Google</td>\n",
       "      <td>Chennai, India</td>\n",
       "      <td>Data Wrangling, Pandas, Numpy</td>\n",
       "      <td>6</td>\n",
       "      <td>₹17L per annum</td>\n",
       "      <td>Posted 13 days ago</td>\n",
       "    </tr>\n",
       "    <tr>\n",
       "      <th>2</th>\n",
       "      <td>Data Scientist</td>\n",
       "      <td>Flipkart</td>\n",
       "      <td>Chennai, India</td>\n",
       "      <td>Machine Learning, Deep Learning</td>\n",
       "      <td>9</td>\n",
       "      <td>₹9L per annum</td>\n",
       "      <td>Posted 7 days ago</td>\n",
       "    </tr>\n",
       "    <tr>\n",
       "      <th>3</th>\n",
       "      <td>Machine Learning Engineer</td>\n",
       "      <td>Infosys</td>\n",
       "      <td>Pune, India</td>\n",
       "      <td>Machine Learning, Deep Learning</td>\n",
       "      <td>4</td>\n",
       "      <td>₹19L per annum</td>\n",
       "      <td>Posted 5 days ago</td>\n",
       "    </tr>\n",
       "    <tr>\n",
       "      <th>4</th>\n",
       "      <td>Machine Learning Engineer</td>\n",
       "      <td>Deloitte</td>\n",
       "      <td>Pune, India</td>\n",
       "      <td>Python, Sql, Power Bi</td>\n",
       "      <td>3</td>\n",
       "      <td>₹6L per annum</td>\n",
       "      <td>Posted 9 days ago</td>\n",
       "    </tr>\n",
       "  </tbody>\n",
       "</table>\n",
       "</div>"
      ],
      "text/plain": [
       "                   Job Title   Company        Location  \\\n",
       "0             Data Scientist    Amazon   Mumbai, India   \n",
       "1             Data Scientist    Google  Chennai, India   \n",
       "2             Data Scientist  Flipkart  Chennai, India   \n",
       "3  Machine Learning Engineer   Infosys     Pune, India   \n",
       "4  Machine Learning Engineer  Deloitte     Pune, India   \n",
       "\n",
       "                            Skills  Experience Required          Salary  \\\n",
       "0                Tableau, Excel, R                    6  ₹10L per annum   \n",
       "1    Data Wrangling, Pandas, Numpy                    6  ₹17L per annum   \n",
       "2  Machine Learning, Deep Learning                    9   ₹9L per annum   \n",
       "3  Machine Learning, Deep Learning                    4  ₹19L per annum   \n",
       "4            Python, Sql, Power Bi                    3   ₹6L per annum   \n",
       "\n",
       "          Date Posted  \n",
       "0   Posted 9 days ago  \n",
       "1  Posted 13 days ago  \n",
       "2   Posted 7 days ago  \n",
       "3   Posted 5 days ago  \n",
       "4   Posted 9 days ago  "
      ]
     },
     "execution_count": 4,
     "metadata": {},
     "output_type": "execute_result"
    }
   ],
   "source": [
    "df = pd.read_csv('../Data/cleaned_jobs.csv')\n",
    "df.head()"
   ]
  },
  {
   "cell_type": "markdown",
   "metadata": {},
   "source": [
    "## **Step-2: *Hypothesis Testing:***"
   ]
  },
  {
   "cell_type": "markdown",
   "metadata": {},
   "source": [
    "### **Hypothesis 1: *Salary Differences by Location (T-test)***\n",
    "\n",
    "> ***Question:*** Are Data Scientist salaries in Bangalore higher than in Mumbai?\n",
    "\n",
    "We compare salaries between Bangalore and Mumbai using an independent t-test.\n",
    "\n",
    "- ***Test Used:*** Independent T-test\n",
    "- ***Null Hypothesis (H₀):*** Salaries in Bangalore and Mumbai are the same.\n",
    "- ***Alternative Hypothesis (H₁):*** Salaries in Bangalore are higher."
   ]
  },
  {
   "cell_type": "code",
   "execution_count": 4,
   "metadata": {},
   "outputs": [
    {
     "ename": "NameError",
     "evalue": "name 'df' is not defined",
     "output_type": "error",
     "traceback": [
      "\u001b[1;31m---------------------------------------------------------------------------\u001b[0m",
      "\u001b[1;31mNameError\u001b[0m                                 Traceback (most recent call last)",
      "Cell \u001b[1;32mIn[4], line 2\u001b[0m\n\u001b[0;32m      1\u001b[0m \u001b[38;5;66;03m# Filter data for Bangalore and Mumbai\u001b[39;00m\n\u001b[1;32m----> 2\u001b[0m bangalore_salaries \u001b[38;5;241m=\u001b[39m \u001b[43mdf\u001b[49m[df[\u001b[38;5;124m\"\u001b[39m\u001b[38;5;124mLocation\u001b[39m\u001b[38;5;124m\"\u001b[39m]\u001b[38;5;241m.\u001b[39mstr\u001b[38;5;241m.\u001b[39mcontains(\u001b[38;5;124m\"\u001b[39m\u001b[38;5;124mBangalore\u001b[39m\u001b[38;5;124m\"\u001b[39m, case\u001b[38;5;241m=\u001b[39m\u001b[38;5;28;01mFalse\u001b[39;00m)][\u001b[38;5;124m\"\u001b[39m\u001b[38;5;124mSalary\u001b[39m\u001b[38;5;124m\"\u001b[39m]\n\u001b[0;32m      3\u001b[0m mumbai_salaries \u001b[38;5;241m=\u001b[39m df[df[\u001b[38;5;124m\"\u001b[39m\u001b[38;5;124mLocation\u001b[39m\u001b[38;5;124m\"\u001b[39m]\u001b[38;5;241m.\u001b[39mstr\u001b[38;5;241m.\u001b[39mcontains(\u001b[38;5;124m\"\u001b[39m\u001b[38;5;124mMumbai\u001b[39m\u001b[38;5;124m\"\u001b[39m, case\u001b[38;5;241m=\u001b[39m\u001b[38;5;28;01mFalse\u001b[39;00m)][\u001b[38;5;124m\"\u001b[39m\u001b[38;5;124mSalary\u001b[39m\u001b[38;5;124m\"\u001b[39m]\n\u001b[0;32m      5\u001b[0m \u001b[38;5;66;03m# Perform Independent T-test\u001b[39;00m\n",
      "\u001b[1;31mNameError\u001b[0m: name 'df' is not defined"
     ]
    }
   ],
   "source": [
    "# Filter data for Bangalore and Mumbai\n",
    "bangalore_salaries = df[df[\"Location\"].str.contains(\"Bangalore\", case=False)][\"Salary\"]\n",
    "mumbai_salaries = df[df[\"Location\"].str.contains(\"Mumbai\", case=False)][\"Salary\"]\n",
    "\n",
    "# Perform Independent T-test\n",
    "t_stat, p_value = stats.ttest_ind(bangalore_salaries, mumbai_salaries, nan_policy=\"omit\")\n",
    "\n",
    "print(f\"T-Statistic: {t_stat:.2f}\")\n",
    "print(f\"P-Value: {p_value:.5f}\")\n",
    "\n",
    "# Interpret results\n",
    "alpha = 0.05\n",
    "if p_value < alpha:\n",
    "    print(\"✅ Reject Null Hypothesis: Salaries in Bangalore and Mumbai are significantly different.\")\n",
    "else:\n",
    "    print(\"❌ Fail to Reject Null Hypothesis: No significant salary difference between Bangalore and Mumbai.\")\n"
   ]
  },
  {
   "cell_type": "markdown",
   "metadata": {},
   "source": [
    "### **Hypothesis 2: *Skill Demand (Chi-Square Test)***\n",
    "\n",
    "> ***Question:*** Are Python and SQL equally in demand?\n",
    "\n",
    "We check if Python and SQL have the same demand in job listings.\n",
    "* ***Test Used:*** Chi-Square Test\n",
    "* ***Null Hypothesis (H₀):*** Python and SQL appear equally in job listings.\n",
    "* ***Alternative Hypothesis (H₁):*** One skill is significantly more in demand."
   ]
  },
  {
   "cell_type": "code",
   "execution_count": null,
   "metadata": {},
   "outputs": [],
   "source": []
  },
  {
   "cell_type": "markdown",
   "metadata": {},
   "source": [
    "### **Hypothesis 3: *Experience vs. Salary Correlation (Pearson Correlation)***\n",
    "> ***Question:*** Does more experience lead to higher salaries?\n",
    "\n",
    "We analyze whether experience has a strong correlation with salary.\n",
    "- ***Test Used:*** Pearson Correlation\n",
    "- ***Null Hypothesis (H₀):*** There is no correlation between experience and salary.\n",
    "- ***Alternative Hypothesis (H₁):*** There is a positive correlation."
   ]
  },
  {
   "cell_type": "code",
   "execution_count": null,
   "metadata": {},
   "outputs": [],
   "source": []
  },
  {
   "cell_type": "markdown",
   "metadata": {},
   "source": [
    "### **Hypothesis 4: *A/B Testing on Job Salaries***\n",
    "> ***Question:*** Do Data Scientists earn more than ML Engineers?\n",
    "\n",
    "We compare salaries between Data Scientists and ML Engineers using A/B testing.\n",
    "- ***Test Used:*** Two-Sample T-test (A/B Testing)\n",
    "- ***Null Hypothesis (H₀):*** Data Scientists and ML Engineers have similar salaries.\n",
    "- ***Alternative Hypothesis (H₁):*** Data Scientists earn significantly more."
   ]
  },
  {
   "cell_type": "code",
   "execution_count": null,
   "metadata": {},
   "outputs": [],
   "source": []
  },
  {
   "cell_type": "markdown",
   "metadata": {},
   "source": [
    "## **Conclusion & Insights**\n",
    "\n",
    "Summarizing the key insights from our hypothesis testing results."
   ]
  }
 ],
 "metadata": {
  "kernelspec": {
   "display_name": "python",
   "language": "python",
   "name": "python3"
  },
  "language_info": {
   "codemirror_mode": {
    "name": "ipython",
    "version": 3
   },
   "file_extension": ".py",
   "mimetype": "text/x-python",
   "name": "python",
   "nbconvert_exporter": "python",
   "pygments_lexer": "ipython3",
   "version": "3.12.4"
  }
 },
 "nbformat": 4,
 "nbformat_minor": 2
}
