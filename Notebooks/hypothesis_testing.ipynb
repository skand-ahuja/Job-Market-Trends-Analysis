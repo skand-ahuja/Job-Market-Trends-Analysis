{
 "cells": [
  {
   "cell_type": "markdown",
   "metadata": {},
   "source": [
    "# **HYPOTHESIS TESTING**\n",
    "\n",
    "## Introduction\n",
    "This notebook performs hypothesis testing and A/B testing on job market trends using `cleaned_jobs.csv`. \n",
    "We aim to test salary variations, skill demand, and experience impact using statistical methods."
   ]
  }
 ],
 "metadata": {
  "language_info": {
   "name": "python"
  }
 },
 "nbformat": 4,
 "nbformat_minor": 2
}
