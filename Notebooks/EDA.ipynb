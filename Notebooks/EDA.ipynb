{
 "cells": [
  {
   "cell_type": "markdown",
   "metadata": {},
   "source": [
    "# **Exploratory Data Analysis (EDA)**"
   ]
  },
  {
   "cell_type": "markdown",
   "metadata": {},
   "source": [
    "## **Step-1: *Importing Libraries***"
   ]
  },
  {
   "cell_type": "code",
   "execution_count": 2,
   "metadata": {},
   "outputs": [],
   "source": [
    "import numpy as np\n",
    "import pandas as pd\n",
    "import matplotlib.pyplot as plt\n",
    "import seaborn as sns"
   ]
  },
  {
   "cell_type": "markdown",
   "metadata": {},
   "source": [
    "## **Step-2: *Loading Data***"
   ]
  },
  {
   "cell_type": "code",
   "execution_count": 6,
   "metadata": {},
   "outputs": [
    {
     "name": "stdout",
     "output_type": "stream",
     "text": [
      "                   Job Title   Company        Location  \\\n",
      "0             Data Scientist    Amazon   Mumbai, India   \n",
      "1             Data Scientist    Google  Chennai, India   \n",
      "2             Data Scientist  Flipkart  Chennai, India   \n",
      "3  Machine Learning Engineer   Infosys     Pune, India   \n",
      "4  Machine Learning Engineer  Deloitte     Pune, India   \n",
      "\n",
      "                            Skills Experience Required          Salary  \\\n",
      "0                Tableau, Excel, R            6+ years  ₹10L per annum   \n",
      "1    Data Wrangling, Pandas, NumPy            6+ years  ₹17L per annum   \n",
      "2  Machine Learning, Deep Learning            9+ years   ₹9L per annum   \n",
      "3  Machine Learning, Deep Learning            4+ years  ₹19L per annum   \n",
      "4            Python, SQL, Power BI            3+ years   ₹6L per annum   \n",
      "\n",
      "          Date Posted  \n",
      "0   Posted 9 days ago  \n",
      "1  Posted 13 days ago  \n",
      "2   Posted 7 days ago  \n",
      "3   Posted 5 days ago  \n",
      "4   Posted 9 days ago  \n"
     ]
    }
   ],
   "source": [
    "df = pd.read_csv('C:/Users/lenovo/Desktop/Data-Scientist/Projects/4-Job-Market-Trends-India/Data/synthetic_jobs.csv')\n",
    "print(df.head(5))"
   ]
  },
  {
   "cell_type": "markdown",
   "metadata": {},
   "source": [
    "***Basic data examination***"
   ]
  },
  {
   "cell_type": "code",
   "execution_count": 15,
   "metadata": {},
   "outputs": [
    {
     "name": "stdout",
     "output_type": "stream",
     "text": [
      "Dataset Shape: (50, 7)\n",
      "\n",
      "Columns: ['Job Title', 'Company', 'Location', 'Skills', 'Experience Required', 'Salary', 'Date Posted']\n",
      "\n",
      "Top 5 Rows:                    Job Title   Company        Location  \\\n",
      "0             Data Scientist    Amazon   Mumbai, India   \n",
      "1             Data Scientist    Google  Chennai, India   \n",
      "2             Data Scientist  Flipkart  Chennai, India   \n",
      "3  Machine Learning Engineer   Infosys     Pune, India   \n",
      "4  Machine Learning Engineer  Deloitte     Pune, India   \n",
      "\n",
      "                            Skills Experience Required          Salary  \\\n",
      "0                Tableau, Excel, R            6+ years  ₹10L per annum   \n",
      "1    Data Wrangling, Pandas, NumPy            6+ years  ₹17L per annum   \n",
      "2  Machine Learning, Deep Learning            9+ years   ₹9L per annum   \n",
      "3  Machine Learning, Deep Learning            4+ years  ₹19L per annum   \n",
      "4            Python, SQL, Power BI            3+ years   ₹6L per annum   \n",
      "\n",
      "          Date Posted  \n",
      "0   Posted 9 days ago  \n",
      "1  Posted 13 days ago  \n",
      "2   Posted 7 days ago  \n",
      "3   Posted 5 days ago  \n",
      "4   Posted 9 days ago  ,                     Job Title   Company          Location  \\\n",
      "45  Machine Learning Engineer   Infosys  Bangalore, India   \n",
      "46               Data Analyst  Deloitte    Chennai, India   \n",
      "47        Senior Data Analyst   Infosys  Bangalore, India   \n",
      "48        Senior Data Analyst       TCS  Bangalore, India   \n",
      "49        Senior Data Analyst    Amazon       Pune, India   \n",
      "\n",
      "                   Skills Experience Required          Salary  \\\n",
      "45  Python, SQL, Power BI            7+ years  ₹15L per annum   \n",
      "46      Tableau, Excel, R           10+ years  ₹11L per annum   \n",
      "47      Tableau, Excel, R           10+ years  ₹20L per annum   \n",
      "48      Tableau, Excel, R            2+ years  ₹19L per annum   \n",
      "49  Python, SQL, Power BI            5+ years  ₹17L per annum   \n",
      "\n",
      "           Date Posted  \n",
      "45  Posted 12 days ago  \n",
      "46   Posted 6 days ago  \n",
      "47   Posted 9 days ago  \n",
      "48  Posted 12 days ago  \n",
      "49   Posted 9 days ago   \n",
      "\n",
      "<class 'pandas.core.frame.DataFrame'>\n",
      "RangeIndex: 50 entries, 0 to 49\n",
      "Data columns (total 7 columns):\n",
      " #   Column               Non-Null Count  Dtype \n",
      "---  ------               --------------  ----- \n",
      " 0   Job Title            50 non-null     object\n",
      " 1   Company              50 non-null     object\n",
      " 2   Location             50 non-null     object\n",
      " 3   Skills               50 non-null     object\n",
      " 4   Experience Required  50 non-null     object\n",
      " 5   Salary               50 non-null     object\n",
      " 6   Date Posted          50 non-null     object\n",
      "dtypes: object(7)\n",
      "memory usage: 2.9+ KB\n",
      "Data Info: None\n",
      "\n"
     ]
    }
   ],
   "source": [
    "print(f'Dataset Shape: {df.shape}\\n')                       \n",
    "print(f'Columns: {list(df.columns)}\\n')\n",
    "print(f'Top 5 Rows: {df.head()}, {df.tail()} \\n')\n",
    "print(f'Data Info: {df.info()}\\n')"
   ]
  },
  {
   "cell_type": "markdown",
   "metadata": {},
   "source": [
    "## **Step-3: *Data Cleaning***"
   ]
  },
  {
   "cell_type": "markdown",
   "metadata": {},
   "source": [
    "***Checking missing Values:***"
   ]
  },
  {
   "cell_type": "code",
   "execution_count": 23,
   "metadata": {},
   "outputs": [
    {
     "name": "stdout",
     "output_type": "stream",
     "text": [
      "Missing Values: \n",
      "Job Title              0\n",
      "Company                0\n",
      "Location               0\n",
      "Skills                 0\n",
      "Experience Required    0\n",
      "Salary                 0\n",
      "Date Posted            0\n",
      "dtype: int64\n"
     ]
    }
   ],
   "source": [
    "# Check for missing values\n",
    "print(f'Missing Values: \\n{df.isnull().sum()}')"
   ]
  },
  {
   "cell_type": "markdown",
   "metadata": {},
   "source": [
    "***Data Cleaning & Transformation***"
   ]
  },
  {
   "cell_type": "code",
   "execution_count": 26,
   "metadata": {},
   "outputs": [
    {
     "data": {
      "text/html": [
       "<div>\n",
       "<style scoped>\n",
       "    .dataframe tbody tr th:only-of-type {\n",
       "        vertical-align: middle;\n",
       "    }\n",
       "\n",
       "    .dataframe tbody tr th {\n",
       "        vertical-align: top;\n",
       "    }\n",
       "\n",
       "    .dataframe thead th {\n",
       "        text-align: right;\n",
       "    }\n",
       "</style>\n",
       "<table border=\"1\" class=\"dataframe\">\n",
       "  <thead>\n",
       "    <tr style=\"text-align: right;\">\n",
       "      <th></th>\n",
       "      <th>Job Title</th>\n",
       "      <th>Company</th>\n",
       "      <th>Location</th>\n",
       "      <th>Skills</th>\n",
       "      <th>Experience Required</th>\n",
       "      <th>Salary</th>\n",
       "      <th>Date Posted</th>\n",
       "    </tr>\n",
       "  </thead>\n",
       "  <tbody>\n",
       "    <tr>\n",
       "      <th>0</th>\n",
       "      <td>Data Scientist</td>\n",
       "      <td>Amazon</td>\n",
       "      <td>Mumbai, India</td>\n",
       "      <td>Tableau, Excel, R</td>\n",
       "      <td>6+ years</td>\n",
       "      <td>₹10L per annum</td>\n",
       "      <td>Posted 9 days ago</td>\n",
       "    </tr>\n",
       "    <tr>\n",
       "      <th>1</th>\n",
       "      <td>Data Scientist</td>\n",
       "      <td>Google</td>\n",
       "      <td>Chennai, India</td>\n",
       "      <td>Data Wrangling, Pandas, NumPy</td>\n",
       "      <td>6+ years</td>\n",
       "      <td>₹17L per annum</td>\n",
       "      <td>Posted 13 days ago</td>\n",
       "    </tr>\n",
       "    <tr>\n",
       "      <th>2</th>\n",
       "      <td>Data Scientist</td>\n",
       "      <td>Flipkart</td>\n",
       "      <td>Chennai, India</td>\n",
       "      <td>Machine Learning, Deep Learning</td>\n",
       "      <td>9+ years</td>\n",
       "      <td>₹9L per annum</td>\n",
       "      <td>Posted 7 days ago</td>\n",
       "    </tr>\n",
       "    <tr>\n",
       "      <th>3</th>\n",
       "      <td>Machine Learning Engineer</td>\n",
       "      <td>Infosys</td>\n",
       "      <td>Pune, India</td>\n",
       "      <td>Machine Learning, Deep Learning</td>\n",
       "      <td>4+ years</td>\n",
       "      <td>₹19L per annum</td>\n",
       "      <td>Posted 5 days ago</td>\n",
       "    </tr>\n",
       "    <tr>\n",
       "      <th>4</th>\n",
       "      <td>Machine Learning Engineer</td>\n",
       "      <td>Deloitte</td>\n",
       "      <td>Pune, India</td>\n",
       "      <td>Python, SQL, Power BI</td>\n",
       "      <td>3+ years</td>\n",
       "      <td>₹6L per annum</td>\n",
       "      <td>Posted 9 days ago</td>\n",
       "    </tr>\n",
       "  </tbody>\n",
       "</table>\n",
       "</div>"
      ],
      "text/plain": [
       "                   Job Title   Company        Location  \\\n",
       "0             Data Scientist    Amazon   Mumbai, India   \n",
       "1             Data Scientist    Google  Chennai, India   \n",
       "2             Data Scientist  Flipkart  Chennai, India   \n",
       "3  Machine Learning Engineer   Infosys     Pune, India   \n",
       "4  Machine Learning Engineer  Deloitte     Pune, India   \n",
       "\n",
       "                            Skills Experience Required          Salary  \\\n",
       "0                Tableau, Excel, R            6+ years  ₹10L per annum   \n",
       "1    Data Wrangling, Pandas, NumPy            6+ years  ₹17L per annum   \n",
       "2  Machine Learning, Deep Learning            9+ years   ₹9L per annum   \n",
       "3  Machine Learning, Deep Learning            4+ years  ₹19L per annum   \n",
       "4            Python, SQL, Power BI            3+ years   ₹6L per annum   \n",
       "\n",
       "          Date Posted  \n",
       "0   Posted 9 days ago  \n",
       "1  Posted 13 days ago  \n",
       "2   Posted 7 days ago  \n",
       "3   Posted 5 days ago  \n",
       "4   Posted 9 days ago  "
      ]
     },
     "execution_count": 26,
     "metadata": {},
     "output_type": "execute_result"
    }
   ],
   "source": [
    "df.head(5)"
   ]
  },
  {
   "cell_type": "code",
   "execution_count": 34,
   "metadata": {},
   "outputs": [
    {
     "name": "stdout",
     "output_type": "stream",
     "text": [
      "Job Title              object\n",
      "Company                object\n",
      "Location               object\n",
      "Skills                 object\n",
      "Experience Required     int64\n",
      "Salary                 object\n",
      "Date Posted            object\n",
      "dtype: object\n"
     ]
    }
   ],
   "source": [
    "# Checking Datatypes of columns\n",
    "print(df.dtypes)"
   ]
  },
  {
   "cell_type": "markdown",
   "metadata": {},
   "source": [
    "***Standardize Column Formats***"
   ]
  },
  {
   "cell_type": "code",
   "execution_count": null,
   "metadata": {},
   "outputs": [
    {
     "name": "stdout",
     "output_type": "stream",
     "text": [
      "0      6\n",
      "1      6\n",
      "2      9\n",
      "3      4\n",
      "4      3\n",
      "5      1\n",
      "6      5\n",
      "7      3\n",
      "8      1\n",
      "9      9\n",
      "10     9\n",
      "11     1\n",
      "12     6\n",
      "13     2\n",
      "14     3\n",
      "15     5\n",
      "16     6\n",
      "17     2\n",
      "18     5\n",
      "19     5\n",
      "20     1\n",
      "21     8\n",
      "22     1\n",
      "23     1\n",
      "24     8\n",
      "25     1\n",
      "26     6\n",
      "27     3\n",
      "28     7\n",
      "29     9\n",
      "30    10\n",
      "31    10\n",
      "32     9\n",
      "33     1\n",
      "34     5\n",
      "35     8\n",
      "36     9\n",
      "37    10\n",
      "38     9\n",
      "39     7\n",
      "40     4\n",
      "41     5\n",
      "42     2\n",
      "43     5\n",
      "44     6\n",
      "45     7\n",
      "46    10\n",
      "47    10\n",
      "48     2\n",
      "49     5\n",
      "Name: Experience Required, dtype: int64\n"
     ]
    }
   ],
   "source": [
    "# Converting 'Experience Required' column to int and removing '+ years'\n",
    "df['Experience Required'] = df['Experience Required'].str.split('+').str[0].astype(int)\n",
    "print(df['Experience Required'])"
   ]
  },
  {
   "cell_type": "code",
   "execution_count": null,
   "metadata": {},
   "outputs": [],
   "source": []
  },
  {
   "cell_type": "code",
   "execution_count": null,
   "metadata": {},
   "outputs": [],
   "source": []
  },
  {
   "cell_type": "code",
   "execution_count": null,
   "metadata": {},
   "outputs": [],
   "source": []
  },
  {
   "cell_type": "code",
   "execution_count": null,
   "metadata": {},
   "outputs": [],
   "source": []
  },
  {
   "cell_type": "code",
   "execution_count": null,
   "metadata": {},
   "outputs": [],
   "source": []
  },
  {
   "cell_type": "code",
   "execution_count": null,
   "metadata": {},
   "outputs": [],
   "source": []
  },
  {
   "cell_type": "code",
   "execution_count": null,
   "metadata": {},
   "outputs": [],
   "source": []
  },
  {
   "cell_type": "code",
   "execution_count": null,
   "metadata": {},
   "outputs": [],
   "source": []
  },
  {
   "cell_type": "code",
   "execution_count": null,
   "metadata": {},
   "outputs": [],
   "source": []
  },
  {
   "cell_type": "code",
   "execution_count": null,
   "metadata": {},
   "outputs": [],
   "source": []
  },
  {
   "cell_type": "code",
   "execution_count": null,
   "metadata": {},
   "outputs": [],
   "source": []
  },
  {
   "cell_type": "markdown",
   "metadata": {},
   "source": [
    "***Basic Statistics:***"
   ]
  },
  {
   "cell_type": "code",
   "execution_count": 25,
   "metadata": {},
   "outputs": [
    {
     "name": "stdout",
     "output_type": "stream",
     "text": [
      "\n",
      "Summary Statistics:\n",
      "              Job Title Company        Location                         Skills  \\\n",
      "count               50      50              50                             50   \n",
      "unique               4       7               6                              4   \n",
      "top     Data Scientist  Google  Chennai, India  Data Wrangling, Pandas, NumPy   \n",
      "freq                14       9              10                             14   \n",
      "\n",
      "       Experience Required          Salary        Date Posted  \n",
      "count                   50              50                 50  \n",
      "unique                  10              15                 14  \n",
      "top               1+ years  ₹20L per annum  Posted 9 days ago  \n",
      "freq                     8              10                  6  \n"
     ]
    }
   ],
   "source": [
    "# Basic statistics\n",
    "print(\"\\nSummary Statistics:\\n\", df.describe(include='all'))"
   ]
  }
 ],
 "metadata": {
  "kernelspec": {
   "display_name": "Python 3",
   "language": "python",
   "name": "python3"
  },
  "language_info": {
   "codemirror_mode": {
    "name": "ipython",
    "version": 3
   },
   "file_extension": ".py",
   "mimetype": "text/x-python",
   "name": "python",
   "nbconvert_exporter": "python",
   "pygments_lexer": "ipython3",
   "version": "3.12.4"
  }
 },
 "nbformat": 4,
 "nbformat_minor": 2
}
