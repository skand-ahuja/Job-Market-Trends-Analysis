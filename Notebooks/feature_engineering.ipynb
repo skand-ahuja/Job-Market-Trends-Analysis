{
 "cells": [
  {
   "cell_type": "markdown",
   "metadata": {},
   "source": [
    "# **Introduction**  \n",
    "\n",
    "In this notebook, we perform **Feature Engineering** on the cleaned job market dataset (`cleaned_jobs.csv`). The goal is to **enhance the dataset** by creating new features that improve insights and make the data more useful for analysis and modeling.  \n",
    "\n",
    "### **Objectives:**  \n",
    "✅ Convert **Experience Required** into a **numeric format** (years of experience).  \n",
    "✅ Categorize **Salaries** into `\"Low\"`, `\"Medium\"`, and `\"High\"`.  \n",
    "✅ Classify job postings into **Seniority Levels** (`Junior`, `Mid-Level`, `Senior`).  \n",
    "✅ Extract **Key Skills** from job descriptions and apply **one-hot encoding**.  \n",
    "✅ Save the processed dataset as **`processed_jobs.csv`** for further analysis.  \n",
    "\n",
    "By engineering these features, we make the dataset more structured, which will help in **exploratory analysis, visualization, and predictive modeling**.  \n",
    "\n",
    "---"
   ]
  },
  {
   "cell_type": "markdown",
   "metadata": {},
   "source": [
    "# **Feature Engineering**"
   ]
  },
  {
   "cell_type": "markdown",
   "metadata": {},
   "source": [
    "## **Step 1: Load & Prepare Data**"
   ]
  },
  {
   "cell_type": "markdown",
   "metadata": {},
   "source": [
    "***Importing Libraries:***"
   ]
  },
  {
   "cell_type": "code",
   "execution_count": 31,
   "metadata": {},
   "outputs": [],
   "source": [
    "import numpy as np\n",
    "import pandas as pd\n",
    "import matplotlib.pyplot as plt\n",
    "import seaborn as sns\n",
    "import sklearn"
   ]
  },
  {
   "cell_type": "markdown",
   "metadata": {},
   "source": [
    "***Load the cleaned dataset***"
   ]
  },
  {
   "cell_type": "code",
   "execution_count": 32,
   "metadata": {},
   "outputs": [
    {
     "name": "stdout",
     "output_type": "stream",
     "text": [
      "Dataset Loaded Successfully!\n"
     ]
    }
   ],
   "source": [
    "df = pd.read_csv(\"../data/cleaned_jobs.csv\")\n",
    "print(\"Dataset Loaded Successfully!\")"
   ]
  },
  {
   "cell_type": "code",
   "execution_count": 33,
   "metadata": {},
   "outputs": [
    {
     "data": {
      "text/html": [
       "<div>\n",
       "<style scoped>\n",
       "    .dataframe tbody tr th:only-of-type {\n",
       "        vertical-align: middle;\n",
       "    }\n",
       "\n",
       "    .dataframe tbody tr th {\n",
       "        vertical-align: top;\n",
       "    }\n",
       "\n",
       "    .dataframe thead th {\n",
       "        text-align: right;\n",
       "    }\n",
       "</style>\n",
       "<table border=\"1\" class=\"dataframe\">\n",
       "  <thead>\n",
       "    <tr style=\"text-align: right;\">\n",
       "      <th></th>\n",
       "      <th>Job Title</th>\n",
       "      <th>Company</th>\n",
       "      <th>Location</th>\n",
       "      <th>Skills</th>\n",
       "      <th>Experience</th>\n",
       "      <th>Salary</th>\n",
       "      <th>Date Posted</th>\n",
       "    </tr>\n",
       "  </thead>\n",
       "  <tbody>\n",
       "    <tr>\n",
       "      <th>0</th>\n",
       "      <td>Data Scientist</td>\n",
       "      <td>Amazon</td>\n",
       "      <td>Mumbai</td>\n",
       "      <td>Tableau, Excel, R</td>\n",
       "      <td>6</td>\n",
       "      <td>1</td>\n",
       "      <td>Posted 9 days ago</td>\n",
       "    </tr>\n",
       "    <tr>\n",
       "      <th>1</th>\n",
       "      <td>Data Scientist</td>\n",
       "      <td>Google</td>\n",
       "      <td>Chennai</td>\n",
       "      <td>Data Wrangling, Pandas, Numpy</td>\n",
       "      <td>6</td>\n",
       "      <td>1</td>\n",
       "      <td>Posted 13 days ago</td>\n",
       "    </tr>\n",
       "    <tr>\n",
       "      <th>2</th>\n",
       "      <td>Data Scientist</td>\n",
       "      <td>Flipkart</td>\n",
       "      <td>Chennai</td>\n",
       "      <td>Machine Learning, Deep Learning</td>\n",
       "      <td>9</td>\n",
       "      <td>9</td>\n",
       "      <td>Posted 7 days ago</td>\n",
       "    </tr>\n",
       "    <tr>\n",
       "      <th>3</th>\n",
       "      <td>Machine Learning Engineer</td>\n",
       "      <td>Infosys</td>\n",
       "      <td>Pune</td>\n",
       "      <td>Machine Learning, Deep Learning</td>\n",
       "      <td>4</td>\n",
       "      <td>1</td>\n",
       "      <td>Posted 5 days ago</td>\n",
       "    </tr>\n",
       "    <tr>\n",
       "      <th>4</th>\n",
       "      <td>Machine Learning Engineer</td>\n",
       "      <td>Deloitte</td>\n",
       "      <td>Pune</td>\n",
       "      <td>Python, Sql, Power Bi</td>\n",
       "      <td>3</td>\n",
       "      <td>6</td>\n",
       "      <td>Posted 9 days ago</td>\n",
       "    </tr>\n",
       "  </tbody>\n",
       "</table>\n",
       "</div>"
      ],
      "text/plain": [
       "                   Job Title   Company Location  \\\n",
       "0             Data Scientist    Amazon   Mumbai   \n",
       "1             Data Scientist    Google  Chennai   \n",
       "2             Data Scientist  Flipkart  Chennai   \n",
       "3  Machine Learning Engineer   Infosys     Pune   \n",
       "4  Machine Learning Engineer  Deloitte     Pune   \n",
       "\n",
       "                            Skills  Experience  Salary         Date Posted  \n",
       "0                Tableau, Excel, R           6       1   Posted 9 days ago  \n",
       "1    Data Wrangling, Pandas, Numpy           6       1  Posted 13 days ago  \n",
       "2  Machine Learning, Deep Learning           9       9   Posted 7 days ago  \n",
       "3  Machine Learning, Deep Learning           4       1   Posted 5 days ago  \n",
       "4            Python, Sql, Power Bi           3       6   Posted 9 days ago  "
      ]
     },
     "execution_count": 33,
     "metadata": {},
     "output_type": "execute_result"
    }
   ],
   "source": [
    "# Display first few rows\n",
    "df.head()"
   ]
  },
  {
   "cell_type": "markdown",
   "metadata": {},
   "source": [
    "## **Step 2: Convert Experience to Numeric Format**"
   ]
  },
  {
   "cell_type": "code",
   "execution_count": 34,
   "metadata": {},
   "outputs": [
    {
     "name": "stdout",
     "output_type": "stream",
     "text": [
      "Experience column transformed successfully!\n"
     ]
    },
    {
     "name": "stderr",
     "output_type": "stream",
     "text": [
      "C:\\Users\\lenovo\\AppData\\Local\\Temp\\ipykernel_13740\\930636303.py:5: FutureWarning: A value is trying to be set on a copy of a DataFrame or Series through chained assignment using an inplace method.\n",
      "The behavior will change in pandas 3.0. This inplace method will never work because the intermediate object on which we are setting values always behaves as a copy.\n",
      "\n",
      "For example, when doing 'df[col].method(value, inplace=True)', try using 'df.method({col: value}, inplace=True)' or df[col] = df[col].method(value) instead, to perform the operation inplace on the original object.\n",
      "\n",
      "\n",
      "  df[\"Experience Years\"].fillna(df[\"Experience Years\"].median(), inplace=True)\n"
     ]
    },
    {
     "data": {
      "text/html": [
       "<div>\n",
       "<style scoped>\n",
       "    .dataframe tbody tr th:only-of-type {\n",
       "        vertical-align: middle;\n",
       "    }\n",
       "\n",
       "    .dataframe tbody tr th {\n",
       "        vertical-align: top;\n",
       "    }\n",
       "\n",
       "    .dataframe thead th {\n",
       "        text-align: right;\n",
       "    }\n",
       "</style>\n",
       "<table border=\"1\" class=\"dataframe\">\n",
       "  <thead>\n",
       "    <tr style=\"text-align: right;\">\n",
       "      <th></th>\n",
       "      <th>Experience</th>\n",
       "      <th>Experience Years</th>\n",
       "    </tr>\n",
       "  </thead>\n",
       "  <tbody>\n",
       "    <tr>\n",
       "      <th>0</th>\n",
       "      <td>6</td>\n",
       "      <td>6.0</td>\n",
       "    </tr>\n",
       "    <tr>\n",
       "      <th>1</th>\n",
       "      <td>6</td>\n",
       "      <td>6.0</td>\n",
       "    </tr>\n",
       "    <tr>\n",
       "      <th>2</th>\n",
       "      <td>9</td>\n",
       "      <td>9.0</td>\n",
       "    </tr>\n",
       "    <tr>\n",
       "      <th>3</th>\n",
       "      <td>4</td>\n",
       "      <td>4.0</td>\n",
       "    </tr>\n",
       "    <tr>\n",
       "      <th>4</th>\n",
       "      <td>3</td>\n",
       "      <td>3.0</td>\n",
       "    </tr>\n",
       "  </tbody>\n",
       "</table>\n",
       "</div>"
      ],
      "text/plain": [
       "   Experience  Experience Years\n",
       "0           6               6.0\n",
       "1           6               6.0\n",
       "2           9               9.0\n",
       "3           4               4.0\n",
       "4           3               3.0"
      ]
     },
     "execution_count": 34,
     "metadata": {},
     "output_type": "execute_result"
    }
   ],
   "source": [
    "# Extract numeric years from 'Experience Required'\n",
    "df[\"Experience Years\"] = df[\"Experience\"].fillna(\"0\").astype(str).str.extract(r'(\\d+)').astype(float)\n",
    "\n",
    "# Fill missing values with median experience\n",
    "df[\"Experience Years\"].fillna(df[\"Experience Years\"].median(), inplace=True)\n",
    "\n",
    "print(\"Experience column transformed successfully!\")\n",
    "df[[\"Experience\", \"Experience Years\"]].head()\n"
   ]
  },
  {
   "cell_type": "markdown",
   "metadata": {},
   "source": [
    "## **Step 3: Categorize Salaries (Low, Medium, High)**"
   ]
  },
  {
   "cell_type": "code",
   "execution_count": 35,
   "metadata": {},
   "outputs": [
    {
     "name": "stdout",
     "output_type": "stream",
     "text": [
      "Salary categories assigned successfully!\n"
     ]
    },
    {
     "data": {
      "text/html": [
       "<div>\n",
       "<style scoped>\n",
       "    .dataframe tbody tr th:only-of-type {\n",
       "        vertical-align: middle;\n",
       "    }\n",
       "\n",
       "    .dataframe tbody tr th {\n",
       "        vertical-align: top;\n",
       "    }\n",
       "\n",
       "    .dataframe thead th {\n",
       "        text-align: right;\n",
       "    }\n",
       "</style>\n",
       "<table border=\"1\" class=\"dataframe\">\n",
       "  <thead>\n",
       "    <tr style=\"text-align: right;\">\n",
       "      <th></th>\n",
       "      <th>Salary</th>\n",
       "      <th>Salary Category</th>\n",
       "    </tr>\n",
       "  </thead>\n",
       "  <tbody>\n",
       "    <tr>\n",
       "      <th>0</th>\n",
       "      <td>1</td>\n",
       "      <td>Low</td>\n",
       "    </tr>\n",
       "    <tr>\n",
       "      <th>1</th>\n",
       "      <td>1</td>\n",
       "      <td>Low</td>\n",
       "    </tr>\n",
       "    <tr>\n",
       "      <th>2</th>\n",
       "      <td>9</td>\n",
       "      <td>High</td>\n",
       "    </tr>\n",
       "    <tr>\n",
       "      <th>3</th>\n",
       "      <td>1</td>\n",
       "      <td>Low</td>\n",
       "    </tr>\n",
       "    <tr>\n",
       "      <th>4</th>\n",
       "      <td>6</td>\n",
       "      <td>High</td>\n",
       "    </tr>\n",
       "  </tbody>\n",
       "</table>\n",
       "</div>"
      ],
      "text/plain": [
       "   Salary Salary Category\n",
       "0       1             Low\n",
       "1       1             Low\n",
       "2       9            High\n",
       "3       1             Low\n",
       "4       6            High"
      ]
     },
     "execution_count": 35,
     "metadata": {},
     "output_type": "execute_result"
    }
   ],
   "source": [
    "# Define salary percentiles\n",
    "low_thresh = df[\"Salary\"].quantile(0.33)\n",
    "high_thresh = df[\"Salary\"].quantile(0.66)\n",
    "\n",
    "# Assign categories\n",
    "df[\"Salary Category\"] = pd.cut(df[\"Salary\"], bins=[0, low_thresh, high_thresh, np.inf], labels=[\"Low\", \"Medium\", \"High\"])\n",
    "\n",
    "print(\"Salary categories assigned successfully!\")\n",
    "df[[\"Salary\", \"Salary Category\"]].head()"
   ]
  },
  {
   "cell_type": "markdown",
   "metadata": {},
   "source": [
    "## **Step 4: Create Job Seniority Level**"
   ]
  },
  {
   "cell_type": "code",
   "execution_count": 36,
   "metadata": {},
   "outputs": [
    {
     "data": {
      "text/html": [
       "<div>\n",
       "<style scoped>\n",
       "    .dataframe tbody tr th:only-of-type {\n",
       "        vertical-align: middle;\n",
       "    }\n",
       "\n",
       "    .dataframe tbody tr th {\n",
       "        vertical-align: top;\n",
       "    }\n",
       "\n",
       "    .dataframe thead th {\n",
       "        text-align: right;\n",
       "    }\n",
       "</style>\n",
       "<table border=\"1\" class=\"dataframe\">\n",
       "  <thead>\n",
       "    <tr style=\"text-align: right;\">\n",
       "      <th></th>\n",
       "      <th>Experience Years</th>\n",
       "      <th>Seniority</th>\n",
       "    </tr>\n",
       "  </thead>\n",
       "  <tbody>\n",
       "    <tr>\n",
       "      <th>0</th>\n",
       "      <td>6.0</td>\n",
       "      <td>Mid-Level</td>\n",
       "    </tr>\n",
       "    <tr>\n",
       "      <th>1</th>\n",
       "      <td>6.0</td>\n",
       "      <td>Mid-Level</td>\n",
       "    </tr>\n",
       "    <tr>\n",
       "      <th>2</th>\n",
       "      <td>9.0</td>\n",
       "      <td>Senior</td>\n",
       "    </tr>\n",
       "    <tr>\n",
       "      <th>3</th>\n",
       "      <td>4.0</td>\n",
       "      <td>Mid-Level</td>\n",
       "    </tr>\n",
       "    <tr>\n",
       "      <th>4</th>\n",
       "      <td>3.0</td>\n",
       "      <td>Junior</td>\n",
       "    </tr>\n",
       "  </tbody>\n",
       "</table>\n",
       "</div>"
      ],
      "text/plain": [
       "   Experience Years  Seniority\n",
       "0               6.0  Mid-Level\n",
       "1               6.0  Mid-Level\n",
       "2               9.0     Senior\n",
       "3               4.0  Mid-Level\n",
       "4               3.0     Junior"
      ]
     },
     "execution_count": 36,
     "metadata": {},
     "output_type": "execute_result"
    }
   ],
   "source": [
    "# Define seniority levels based on experience\n",
    "def classify_seniority(exp):\n",
    "    if exp <=3:\n",
    "        return \"Junior\"\n",
    "    elif 4 <= exp <= 7:\n",
    "        return \"Mid-Level\"\n",
    "    else:\n",
    "        return \"Senior\"\n",
    "    \n",
    "df['Seniority'] = df['Experience Years'].apply(classify_seniority)\n",
    "df[['Experience Years', 'Seniority']].head()"
   ]
  },
  {
   "cell_type": "markdown",
   "metadata": {},
   "source": [
    "## **Step 5: Convert Skills into Binary Columns**"
   ]
  },
  {
   "cell_type": "code",
   "execution_count": 37,
   "metadata": {},
   "outputs": [
    {
     "name": "stdout",
     "output_type": "stream",
     "text": [
      "Skills encoded successfully!\n"
     ]
    },
    {
     "data": {
      "text/html": [
       "<div>\n",
       "<style scoped>\n",
       "    .dataframe tbody tr th:only-of-type {\n",
       "        vertical-align: middle;\n",
       "    }\n",
       "\n",
       "    .dataframe tbody tr th {\n",
       "        vertical-align: top;\n",
       "    }\n",
       "\n",
       "    .dataframe thead th {\n",
       "        text-align: right;\n",
       "    }\n",
       "</style>\n",
       "<table border=\"1\" class=\"dataframe\">\n",
       "  <thead>\n",
       "    <tr style=\"text-align: right;\">\n",
       "      <th></th>\n",
       "      <th>Job Title</th>\n",
       "      <th>Company</th>\n",
       "      <th>Location</th>\n",
       "      <th>Skills</th>\n",
       "      <th>Experience</th>\n",
       "      <th>Salary</th>\n",
       "      <th>Date Posted</th>\n",
       "      <th>Experience Years</th>\n",
       "      <th>Salary Category</th>\n",
       "      <th>Seniority</th>\n",
       "      <th>...</th>\n",
       "      <th>Deep Learning</th>\n",
       "      <th>Excel</th>\n",
       "      <th>Machine Learning</th>\n",
       "      <th>Numpy</th>\n",
       "      <th>Pandas</th>\n",
       "      <th>Power Bi</th>\n",
       "      <th>Python</th>\n",
       "      <th>R</th>\n",
       "      <th>Sql</th>\n",
       "      <th>Tableau</th>\n",
       "    </tr>\n",
       "  </thead>\n",
       "  <tbody>\n",
       "    <tr>\n",
       "      <th>0</th>\n",
       "      <td>Data Scientist</td>\n",
       "      <td>Amazon</td>\n",
       "      <td>Mumbai</td>\n",
       "      <td>[Tableau, Excel, R]</td>\n",
       "      <td>6</td>\n",
       "      <td>1</td>\n",
       "      <td>Posted 9 days ago</td>\n",
       "      <td>6.0</td>\n",
       "      <td>Low</td>\n",
       "      <td>Mid-Level</td>\n",
       "      <td>...</td>\n",
       "      <td>0</td>\n",
       "      <td>1</td>\n",
       "      <td>0</td>\n",
       "      <td>0</td>\n",
       "      <td>0</td>\n",
       "      <td>0</td>\n",
       "      <td>0</td>\n",
       "      <td>1</td>\n",
       "      <td>0</td>\n",
       "      <td>1</td>\n",
       "    </tr>\n",
       "    <tr>\n",
       "      <th>1</th>\n",
       "      <td>Data Scientist</td>\n",
       "      <td>Google</td>\n",
       "      <td>Chennai</td>\n",
       "      <td>[Data Wrangling, Pandas, Numpy]</td>\n",
       "      <td>6</td>\n",
       "      <td>1</td>\n",
       "      <td>Posted 13 days ago</td>\n",
       "      <td>6.0</td>\n",
       "      <td>Low</td>\n",
       "      <td>Mid-Level</td>\n",
       "      <td>...</td>\n",
       "      <td>0</td>\n",
       "      <td>0</td>\n",
       "      <td>0</td>\n",
       "      <td>1</td>\n",
       "      <td>1</td>\n",
       "      <td>0</td>\n",
       "      <td>0</td>\n",
       "      <td>0</td>\n",
       "      <td>0</td>\n",
       "      <td>0</td>\n",
       "    </tr>\n",
       "    <tr>\n",
       "      <th>2</th>\n",
       "      <td>Data Scientist</td>\n",
       "      <td>Flipkart</td>\n",
       "      <td>Chennai</td>\n",
       "      <td>[Machine Learning, Deep Learning]</td>\n",
       "      <td>9</td>\n",
       "      <td>9</td>\n",
       "      <td>Posted 7 days ago</td>\n",
       "      <td>9.0</td>\n",
       "      <td>High</td>\n",
       "      <td>Senior</td>\n",
       "      <td>...</td>\n",
       "      <td>1</td>\n",
       "      <td>0</td>\n",
       "      <td>1</td>\n",
       "      <td>0</td>\n",
       "      <td>0</td>\n",
       "      <td>0</td>\n",
       "      <td>0</td>\n",
       "      <td>0</td>\n",
       "      <td>0</td>\n",
       "      <td>0</td>\n",
       "    </tr>\n",
       "    <tr>\n",
       "      <th>3</th>\n",
       "      <td>Machine Learning Engineer</td>\n",
       "      <td>Infosys</td>\n",
       "      <td>Pune</td>\n",
       "      <td>[Machine Learning, Deep Learning]</td>\n",
       "      <td>4</td>\n",
       "      <td>1</td>\n",
       "      <td>Posted 5 days ago</td>\n",
       "      <td>4.0</td>\n",
       "      <td>Low</td>\n",
       "      <td>Mid-Level</td>\n",
       "      <td>...</td>\n",
       "      <td>1</td>\n",
       "      <td>0</td>\n",
       "      <td>1</td>\n",
       "      <td>0</td>\n",
       "      <td>0</td>\n",
       "      <td>0</td>\n",
       "      <td>0</td>\n",
       "      <td>0</td>\n",
       "      <td>0</td>\n",
       "      <td>0</td>\n",
       "    </tr>\n",
       "    <tr>\n",
       "      <th>4</th>\n",
       "      <td>Machine Learning Engineer</td>\n",
       "      <td>Deloitte</td>\n",
       "      <td>Pune</td>\n",
       "      <td>[Python, Sql, Power Bi]</td>\n",
       "      <td>3</td>\n",
       "      <td>6</td>\n",
       "      <td>Posted 9 days ago</td>\n",
       "      <td>3.0</td>\n",
       "      <td>High</td>\n",
       "      <td>Junior</td>\n",
       "      <td>...</td>\n",
       "      <td>0</td>\n",
       "      <td>0</td>\n",
       "      <td>0</td>\n",
       "      <td>0</td>\n",
       "      <td>0</td>\n",
       "      <td>1</td>\n",
       "      <td>1</td>\n",
       "      <td>0</td>\n",
       "      <td>1</td>\n",
       "      <td>0</td>\n",
       "    </tr>\n",
       "  </tbody>\n",
       "</table>\n",
       "<p>5 rows × 21 columns</p>\n",
       "</div>"
      ],
      "text/plain": [
       "                   Job Title   Company Location  \\\n",
       "0             Data Scientist    Amazon   Mumbai   \n",
       "1             Data Scientist    Google  Chennai   \n",
       "2             Data Scientist  Flipkart  Chennai   \n",
       "3  Machine Learning Engineer   Infosys     Pune   \n",
       "4  Machine Learning Engineer  Deloitte     Pune   \n",
       "\n",
       "                              Skills  Experience  Salary         Date Posted  \\\n",
       "0                [Tableau, Excel, R]           6       1   Posted 9 days ago   \n",
       "1    [Data Wrangling, Pandas, Numpy]           6       1  Posted 13 days ago   \n",
       "2  [Machine Learning, Deep Learning]           9       9   Posted 7 days ago   \n",
       "3  [Machine Learning, Deep Learning]           4       1   Posted 5 days ago   \n",
       "4            [Python, Sql, Power Bi]           3       6   Posted 9 days ago   \n",
       "\n",
       "   Experience Years Salary Category  Seniority  ...  Deep Learning  Excel  \\\n",
       "0               6.0             Low  Mid-Level  ...              0      1   \n",
       "1               6.0             Low  Mid-Level  ...              0      0   \n",
       "2               9.0            High     Senior  ...              1      0   \n",
       "3               4.0             Low  Mid-Level  ...              1      0   \n",
       "4               3.0            High     Junior  ...              0      0   \n",
       "\n",
       "   Machine Learning  Numpy  Pandas  Power Bi  Python  R  Sql  Tableau  \n",
       "0                 0      0       0         0       0  1    0        1  \n",
       "1                 0      1       1         0       0  0    0        0  \n",
       "2                 1      0       0         0       0  0    0        0  \n",
       "3                 1      0       0         0       0  0    0        0  \n",
       "4                 0      0       0         1       1  0    1        0  \n",
       "\n",
       "[5 rows x 21 columns]"
      ]
     },
     "execution_count": 37,
     "metadata": {},
     "output_type": "execute_result"
    }
   ],
   "source": [
    "from sklearn.preprocessing import MultiLabelBinarizer\n",
    "\n",
    "# Convert Skills to a list\n",
    "df[\"Skills\"] = df[\"Skills\"].str.split(\", \")\n",
    "\n",
    "# One-hot encoding skills\n",
    "mlb = MultiLabelBinarizer()\n",
    "skills_encoded = pd.DataFrame(mlb.fit_transform(df[\"Skills\"]), columns=mlb.classes_)\n",
    "\n",
    "# Merge with the main dataset\n",
    "df = pd.concat([df, skills_encoded], axis=1)\n",
    "\n",
    "print(\"Skills encoded successfully!\")\n",
    "df.head()"
   ]
  },
  {
   "cell_type": "markdown",
   "metadata": {},
   "source": [
    "## **Step 6: Save the Processed Data**"
   ]
  },
  {
   "cell_type": "code",
   "execution_count": 38,
   "metadata": {},
   "outputs": [
    {
     "name": "stdout",
     "output_type": "stream",
     "text": [
      "✅ Feature Engineering Complete! Data saved as 'processed_jobs.csv'.\n"
     ]
    }
   ],
   "source": [
    "df.to_csv(\"../Data/processed_jobs.csv\", index=False)\n",
    "print(\"✅ Feature Engineering Complete! Data saved as 'processed_jobs.csv'.\")\n"
   ]
  }
 ],
 "metadata": {
  "kernelspec": {
   "display_name": "Python 3",
   "language": "python",
   "name": "python3"
  },
  "language_info": {
   "codemirror_mode": {
    "name": "ipython",
    "version": 3
   },
   "file_extension": ".py",
   "mimetype": "text/x-python",
   "name": "python",
   "nbconvert_exporter": "python",
   "pygments_lexer": "ipython3",
   "version": "3.12.4"
  }
 },
 "nbformat": 4,
 "nbformat_minor": 2
}
